{
 "cells": [
  {
   "cell_type": "code",
   "execution_count": 1,
   "id": "78cf3660",
   "metadata": {},
   "outputs": [
    {
     "name": "stdout",
     "output_type": "stream",
     "text": [
      "Collecting pandas\n",
      "  Downloading pandas-2.1.2-cp311-cp311-win_amd64.whl.metadata (18 kB)\n",
      "Collecting numpy<2,>=1.23.2 (from pandas)\n",
      "  Downloading numpy-1.26.1-cp311-cp311-win_amd64.whl.metadata (61 kB)\n",
      "     ---------------------------------------- 0.0/61.2 kB ? eta -:--:--\n",
      "     -------------------- ------------------- 30.7/61.2 kB 1.4 MB/s eta 0:00:01\n",
      "     ---------------------------------------- 61.2/61.2 kB 1.6 MB/s eta 0:00:00\n",
      "Requirement already satisfied: python-dateutil>=2.8.2 in f:\\anaconda\\envs\\pandas\\lib\\site-packages (from pandas) (2.8.2)\n",
      "Collecting pytz>=2020.1 (from pandas)\n",
      "  Downloading pytz-2023.3.post1-py2.py3-none-any.whl.metadata (22 kB)\n",
      "Collecting tzdata>=2022.1 (from pandas)\n",
      "  Downloading tzdata-2023.3-py2.py3-none-any.whl (341 kB)\n",
      "     ---------------------------------------- 0.0/341.8 kB ? eta -:--:--\n",
      "     ------------------------- ------------ 225.3/341.8 kB 6.9 MB/s eta 0:00:01\n",
      "     ------------------------------------- 341.8/341.8 kB 10.7 MB/s eta 0:00:00\n",
      "Requirement already satisfied: six>=1.5 in f:\\anaconda\\envs\\pandas\\lib\\site-packages (from python-dateutil>=2.8.2->pandas) (1.16.0)\n",
      "Downloading pandas-2.1.2-cp311-cp311-win_amd64.whl (10.6 MB)\n",
      "   ---------------------------------------- 0.0/10.6 MB ? eta -:--:--\n",
      "   ---- ----------------------------------- 1.2/10.6 MB 38.6 MB/s eta 0:00:01\n",
      "   ---------- ----------------------------- 2.9/10.6 MB 60.8 MB/s eta 0:00:01\n",
      "   ----------- ---------------------------- 3.0/10.6 MB 38.1 MB/s eta 0:00:01\n",
      "   ------------ --------------------------- 3.3/10.6 MB 26.3 MB/s eta 0:00:01\n",
      "   -------------- ------------------------- 3.8/10.6 MB 24.2 MB/s eta 0:00:01\n",
      "   ----------------- ---------------------- 4.7/10.6 MB 23.0 MB/s eta 0:00:01\n",
      "   -------------------- ------------------- 5.4/10.6 MB 22.8 MB/s eta 0:00:01\n",
      "   ----------------------- ---------------- 6.1/10.6 MB 24.5 MB/s eta 0:00:01\n",
      "   ------------------------- -------------- 6.9/10.6 MB 23.1 MB/s eta 0:00:01\n",
      "   ---------------------------- ----------- 7.7/10.6 MB 22.3 MB/s eta 0:00:01\n",
      "   ------------------------------- -------- 8.3/10.6 MB 22.0 MB/s eta 0:00:01\n",
      "   ------------------------------------- -- 9.9/10.6 MB 23.3 MB/s eta 0:00:01\n",
      "   ---------------------------------------- 10.6/10.6 MB 22.6 MB/s eta 0:00:00\n",
      "Downloading numpy-1.26.1-cp311-cp311-win_amd64.whl (15.8 MB)\n",
      "   ---------------------------------------- 0.0/15.8 MB ? eta -:--:--\n",
      "   ----- ---------------------------------- 2.3/15.8 MB 70.1 MB/s eta 0:00:01\n",
      "   ----------- ---------------------------- 4.5/15.8 MB 70.9 MB/s eta 0:00:01\n",
      "   ---------------- ----------------------- 6.6/15.8 MB 70.5 MB/s eta 0:00:01\n",
      "   --------------------- ------------------ 8.6/15.8 MB 61.1 MB/s eta 0:00:01\n",
      "   -------------------------- ------------- 10.4/15.8 MB 59.5 MB/s eta 0:00:01\n",
      "   ------------------------------- -------- 12.5/15.8 MB 59.8 MB/s eta 0:00:01\n",
      "   ------------------------------------- -- 14.9/15.8 MB 54.7 MB/s eta 0:00:01\n",
      "   ---------------------------------------  15.8/15.8 MB 54.4 MB/s eta 0:00:01\n",
      "   ---------------------------------------- 15.8/15.8 MB 46.7 MB/s eta 0:00:00\n",
      "Downloading pytz-2023.3.post1-py2.py3-none-any.whl (502 kB)\n",
      "   ---------------------------------------- 0.0/502.5 kB ? eta -:--:--\n",
      "   ---------------------------------------- 502.5/502.5 kB ? eta 0:00:00\n",
      "Installing collected packages: pytz, tzdata, numpy, pandas\n",
      "Successfully installed numpy-1.26.1 pandas-2.1.2 pytz-2023.3.post1 tzdata-2023.3\n"
     ]
    }
   ],
   "source": [
    "!pip install pandas"
   ]
  },
  {
   "cell_type": "code",
   "execution_count": 2,
   "id": "12e58c6e",
   "metadata": {},
   "outputs": [],
   "source": [
    "import pandas as pd"
   ]
  }
 ],
 "metadata": {
  "kernelspec": {
   "display_name": "Python 3 (ipykernel)",
   "language": "python",
   "name": "python3"
  },
  "language_info": {
   "codemirror_mode": {
    "name": "ipython",
    "version": 3
   },
   "file_extension": ".py",
   "mimetype": "text/x-python",
   "name": "python",
   "nbconvert_exporter": "python",
   "pygments_lexer": "ipython3",
   "version": "3.11.5"
  }
 },
 "nbformat": 4,
 "nbformat_minor": 5
}
